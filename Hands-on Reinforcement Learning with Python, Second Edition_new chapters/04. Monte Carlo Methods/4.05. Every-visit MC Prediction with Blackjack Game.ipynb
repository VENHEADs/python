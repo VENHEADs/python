{
 "cells": [
  {
   "cell_type": "markdown",
   "metadata": {},
   "source": [
    "# Every-visit MC prediction with blackjack game\n",
    "\n",
    "To understand this section clearly, you can recap every visit Monte Carlo method we\n",
    "learned earlier. Let's now understand how to implement the every-visit MC prediction with\n",
    "the blackjack game step by step:\n",
    "\n",
    "Import the necessary libraries"
   ]
  },
  {
   "cell_type": "code",
   "execution_count": 1,
   "metadata": {},
   "outputs": [],
   "source": [
    "import gym\n",
    "import pandas as pd\n",
    "from collections import defaultdict"
   ]
  },
  {
   "cell_type": "markdown",
   "metadata": {},
   "source": [
    "Create a blackjack environment:"
   ]
  },
  {
   "cell_type": "code",
   "execution_count": 2,
   "metadata": {},
   "outputs": [],
   "source": [
    "env = gym.make('Blackjack-v0')"
   ]
  },
  {
   "cell_type": "markdown",
   "metadata": {},
   "source": [
    "## Defining a policy\n",
    "\n",
    "We learned that in the prediction method, we will be given an input policy and we predict\n",
    "the value function of the given input policy. So, now, we first define a policy function\n",
    "which acts as an input policy. That is, we define the input policy whose value function will\n",
    "be predicted in the upcoming steps.\n",
    "\n",
    "As shown below, our policy function takes the state as an input and if the state[0], sum of\n",
    "our cards value is greater than 19, then it will return action 0 (stand) else it will return\n",
    "action 1 (hit):"
   ]
  },
  {
   "cell_type": "code",
   "execution_count": 3,
   "metadata": {},
   "outputs": [],
   "source": [
    "def policy(state):\n",
    "    return 0 if state[0] > 18 else 1"
   ]
  },
  {
   "cell_type": "markdown",
   "metadata": {},
   "source": [
    "We defined an optimal policy, that is, it makes more sense to perform an action 0 (stand)\n",
    "when our sum value is already greater than 19. That is, when the sum value is greater than\n",
    "19 we don't have to perform 1 (hit) action and receive a new card which may cause us to\n",
    "lose the game or burst.\n",
    "\n",
    "For example, let's generate an initial state by resetting the environment as shown below:"
   ]
  },
  {
   "cell_type": "code",
   "execution_count": 4,
   "metadata": {},
   "outputs": [
    {
     "name": "stdout",
     "output_type": "stream",
     "text": [
      "(20, 7, False)\n"
     ]
    }
   ],
   "source": [
    "state = env.reset()\n",
    "print(state)"
   ]
  },
  {
   "cell_type": "markdown",
   "metadata": {},
   "source": [
    "As you can notice, state[0] = 20, that is our sum of cards value is 20, so in this case, our\n",
    "policy will return the action 0 (stand) as shown below:"
   ]
  },
  {
   "cell_type": "code",
   "execution_count": 5,
   "metadata": {},
   "outputs": [
    {
     "name": "stdout",
     "output_type": "stream",
     "text": [
      "0\n"
     ]
    }
   ],
   "source": [
    "print(policy(state))"
   ]
  },
  {
   "cell_type": "markdown",
   "metadata": {},
   "source": [
    "Now, that we have defined the policy, in the next section, we will predict the value\n",
    "function (state values) of this policy. "
   ]
  },
  {
   "cell_type": "markdown",
   "metadata": {},
   "source": [
    "## Generating an episode\n",
    "Next, we generate an episode using the given policy, so, we, define a function\n",
    "called generate_episode which takes the policy as an input and generates the episode\n",
    "using the given policy.\n",
    "\n",
    "First, let's set the number of time steps:"
   ]
  },
  {
   "cell_type": "code",
   "execution_count": 6,
   "metadata": {},
   "outputs": [],
   "source": [
    "num_timestep = 100"
   ]
  },
  {
   "cell_type": "code",
   "execution_count": 7,
   "metadata": {},
   "outputs": [],
   "source": [
    "def generate_episode(policy):\n",
    "    \n",
    "    #let's define a list called episode for storing the episode\n",
    "    episode = []\n",
    "    \n",
    "    #initialize the state by resetting the environment\n",
    "    state = env.reset()\n",
    "    \n",
    "    #then for each time step\n",
    "    for i in range(num_timestep):\n",
    "        \n",
    "        #select the action according to the given policy\n",
    "        action = policy(state)\n",
    "        \n",
    "        #perform the action and store the next state information\n",
    "        next_state, reward, done, info = env.step(action)\n",
    "        \n",
    "        #store the state, action, reward into our episode list\n",
    "        episode.append((state, action, reward))\n",
    "        \n",
    "        #If the next state is a final state then break the loop else update the next state to the current state\n",
    "        if done:\n",
    "            break\n",
    "            \n",
    "        state = next_state\n",
    "\n",
    "    return episode"
   ]
  },
  {
   "cell_type": "markdown",
   "metadata": {},
   "source": [
    "Let's take a look at how the output of our generate_episode function looks like. Note\n",
    "that we generate episode using the policy we defined earlier:"
   ]
  },
  {
   "cell_type": "code",
   "execution_count": 8,
   "metadata": {},
   "outputs": [
    {
     "data": {
      "text/plain": [
       "[((12, 10, False), 1, 0), ((15, 10, False), 1, -1)]"
      ]
     },
     "execution_count": 8,
     "metadata": {},
     "output_type": "execute_result"
    }
   ],
   "source": [
    "generate_episode(policy)"
   ]
  },
  {
   "cell_type": "markdown",
   "metadata": {},
   "source": [
    "As we can observe our output is in the form of [(state, action, reward)]. As shown above,\n",
    "we have two states in our episode. We performed action 1 (hit) in the state (10, 2,\n",
    "False)and received a 0 reward and the action 0 (stand) in the state (20, 2, False)and\n",
    "received 1.0 reward.\n",
    "\n",
    "Now that we have learned how to generate an episode using the given policy, next, we will\n",
    "look at how to compute the value of the state (value function) using every visit-MC\n",
    "method."
   ]
  },
  {
   "cell_type": "markdown",
   "metadata": {},
   "source": [
    "## Computing the value function\n",
    "\n",
    "We learned that in order to predict the value function, we generate several episodes using\n",
    "the given policy and compute the value of the state as an average return across several\n",
    "episodes. Let's see how to do implement that.\n",
    "\n",
    "First, we define the total_return and N as a dictionary for storing the total return and the\n",
    "number of times the state is visited across episodes respectively. "
   ]
  },
  {
   "cell_type": "code",
   "execution_count": 9,
   "metadata": {},
   "outputs": [],
   "source": [
    "total_return = defaultdict(float)\n",
    "N = defaultdict(int)"
   ]
  },
  {
   "cell_type": "markdown",
   "metadata": {},
   "source": [
    "Set the number of iterations, that is, the number of episodes, we want to generate:"
   ]
  },
  {
   "cell_type": "code",
   "execution_count": 10,
   "metadata": {},
   "outputs": [],
   "source": [
    "num_iterations = 10000"
   ]
  },
  {
   "cell_type": "code",
   "execution_count": 11,
   "metadata": {},
   "outputs": [],
   "source": [
    "#then, for every iteration\n",
    "for i in range(num_iterations):\n",
    "    \n",
    "    #generate the episode using the given policy, that is, generate an episode using the policy\n",
    "    #function we defined earlier\n",
    "    episode = generate_episode(policy)\n",
    "    \n",
    "    #store all the states, actions, rewards obtained from the episode\n",
    "    states, actions, rewards = zip(*episode)\n",
    "    \n",
    "    #then, for each state in the episode\n",
    "    for t, state in enumerate(states):\n",
    "        \n",
    "            #compute the return R of the state as the sum of reward\n",
    "            R = (sum(rewards[t:]))\n",
    "            \n",
    "            #update the total_return of the state\n",
    "            total_return[state] =  total_return[state] + R\n",
    "            \n",
    "            #update the number of times the state is visited in the episode\n",
    "            N[state] =  N[state] + 1"
   ]
  },
  {
   "cell_type": "markdown",
   "metadata": {},
   "source": [
    "After computing the total_return and N We can just convert them into a pandas data\n",
    "frame for a better understanding. [Note that this is just to give a clear understanding of the\n",
    "algorithm, we don't necessarily have to convert to the pandas data frame, we can also\n",
    "implement this efficiently just using the dictionary]\n",
    "\n",
    "\n",
    "Convert total_returns dictionary to a data frame:"
   ]
  },
  {
   "cell_type": "code",
   "execution_count": 12,
   "metadata": {},
   "outputs": [],
   "source": [
    "total_return = pd.DataFrame(total_return.items(),columns=['state', 'total_return'])"
   ]
  },
  {
   "cell_type": "markdown",
   "metadata": {},
   "source": [
    "Convert the counter N dictionary to a data frame"
   ]
  },
  {
   "cell_type": "code",
   "execution_count": 13,
   "metadata": {},
   "outputs": [],
   "source": [
    "N = pd.DataFrame(N.items(),columns=['state', 'N'])"
   ]
  },
  {
   "cell_type": "markdown",
   "metadata": {},
   "source": [
    "Merge the two data frames on states:"
   ]
  },
  {
   "cell_type": "code",
   "execution_count": 14,
   "metadata": {},
   "outputs": [],
   "source": [
    "df = pd.merge(total_return, N, on=\"state\")"
   ]
  },
  {
   "cell_type": "markdown",
   "metadata": {},
   "source": [
    "Look at the first few rows of the data frame:"
   ]
  },
  {
   "cell_type": "code",
   "execution_count": 15,
   "metadata": {},
   "outputs": [
    {
     "data": {
      "text/html": [
       "<div>\n",
       "<style scoped>\n",
       "    .dataframe tbody tr th:only-of-type {\n",
       "        vertical-align: middle;\n",
       "    }\n",
       "\n",
       "    .dataframe tbody tr th {\n",
       "        vertical-align: top;\n",
       "    }\n",
       "\n",
       "    .dataframe thead th {\n",
       "        text-align: right;\n",
       "    }\n",
       "</style>\n",
       "<table border=\"1\" class=\"dataframe\">\n",
       "  <thead>\n",
       "    <tr style=\"text-align: right;\">\n",
       "      <th></th>\n",
       "      <th>state</th>\n",
       "      <th>total_return</th>\n",
       "      <th>N</th>\n",
       "    </tr>\n",
       "  </thead>\n",
       "  <tbody>\n",
       "    <tr>\n",
       "      <td>0</td>\n",
       "      <td>(7, 7, False)</td>\n",
       "      <td>-4.0</td>\n",
       "      <td>16</td>\n",
       "    </tr>\n",
       "    <tr>\n",
       "      <td>1</td>\n",
       "      <td>(11, 7, False)</td>\n",
       "      <td>19.0</td>\n",
       "      <td>43</td>\n",
       "    </tr>\n",
       "    <tr>\n",
       "      <td>2</td>\n",
       "      <td>(16, 7, False)</td>\n",
       "      <td>-38.0</td>\n",
       "      <td>104</td>\n",
       "    </tr>\n",
       "    <tr>\n",
       "      <td>3</td>\n",
       "      <td>(19, 7, False)</td>\n",
       "      <td>55.0</td>\n",
       "      <td>113</td>\n",
       "    </tr>\n",
       "    <tr>\n",
       "      <td>4</td>\n",
       "      <td>(20, 8, False)</td>\n",
       "      <td>96.0</td>\n",
       "      <td>129</td>\n",
       "    </tr>\n",
       "    <tr>\n",
       "      <td>5</td>\n",
       "      <td>(20, 2, False)</td>\n",
       "      <td>94.0</td>\n",
       "      <td>142</td>\n",
       "    </tr>\n",
       "    <tr>\n",
       "      <td>6</td>\n",
       "      <td>(15, 5, False)</td>\n",
       "      <td>-42.0</td>\n",
       "      <td>93</td>\n",
       "    </tr>\n",
       "    <tr>\n",
       "      <td>7</td>\n",
       "      <td>(20, 5, False)</td>\n",
       "      <td>62.0</td>\n",
       "      <td>115</td>\n",
       "    </tr>\n",
       "    <tr>\n",
       "      <td>8</td>\n",
       "      <td>(12, 3, False)</td>\n",
       "      <td>-55.0</td>\n",
       "      <td>91</td>\n",
       "    </tr>\n",
       "    <tr>\n",
       "      <td>9</td>\n",
       "      <td>(15, 3, False)</td>\n",
       "      <td>-36.0</td>\n",
       "      <td>96</td>\n",
       "    </tr>\n",
       "  </tbody>\n",
       "</table>\n",
       "</div>"
      ],
      "text/plain": [
       "            state  total_return    N\n",
       "0   (7, 7, False)          -4.0   16\n",
       "1  (11, 7, False)          19.0   43\n",
       "2  (16, 7, False)         -38.0  104\n",
       "3  (19, 7, False)          55.0  113\n",
       "4  (20, 8, False)          96.0  129\n",
       "5  (20, 2, False)          94.0  142\n",
       "6  (15, 5, False)         -42.0   93\n",
       "7  (20, 5, False)          62.0  115\n",
       "8  (12, 3, False)         -55.0   91\n",
       "9  (15, 3, False)         -36.0   96"
      ]
     },
     "execution_count": 15,
     "metadata": {},
     "output_type": "execute_result"
    }
   ],
   "source": [
    "df.head(10)"
   ]
  },
  {
   "cell_type": "markdown",
   "metadata": {},
   "source": [
    "As we can observe from above, we have the total return and\n",
    "the number of times the state is visited.\n",
    "\n",
    "Next, we can compute the value of the state as the average return, thus, we can write:"
   ]
  },
  {
   "cell_type": "code",
   "execution_count": 16,
   "metadata": {},
   "outputs": [],
   "source": [
    "df['value'] = df['total_return']/df['N']"
   ]
  },
  {
   "cell_type": "markdown",
   "metadata": {},
   "source": [
    "Let's look at the first few rows of the data frame:"
   ]
  },
  {
   "cell_type": "code",
   "execution_count": 17,
   "metadata": {},
   "outputs": [
    {
     "data": {
      "text/html": [
       "<div>\n",
       "<style scoped>\n",
       "    .dataframe tbody tr th:only-of-type {\n",
       "        vertical-align: middle;\n",
       "    }\n",
       "\n",
       "    .dataframe tbody tr th {\n",
       "        vertical-align: top;\n",
       "    }\n",
       "\n",
       "    .dataframe thead th {\n",
       "        text-align: right;\n",
       "    }\n",
       "</style>\n",
       "<table border=\"1\" class=\"dataframe\">\n",
       "  <thead>\n",
       "    <tr style=\"text-align: right;\">\n",
       "      <th></th>\n",
       "      <th>state</th>\n",
       "      <th>total_return</th>\n",
       "      <th>N</th>\n",
       "      <th>value</th>\n",
       "    </tr>\n",
       "  </thead>\n",
       "  <tbody>\n",
       "    <tr>\n",
       "      <td>0</td>\n",
       "      <td>(7, 7, False)</td>\n",
       "      <td>-4.0</td>\n",
       "      <td>16</td>\n",
       "      <td>-0.250000</td>\n",
       "    </tr>\n",
       "    <tr>\n",
       "      <td>1</td>\n",
       "      <td>(11, 7, False)</td>\n",
       "      <td>19.0</td>\n",
       "      <td>43</td>\n",
       "      <td>0.441860</td>\n",
       "    </tr>\n",
       "    <tr>\n",
       "      <td>2</td>\n",
       "      <td>(16, 7, False)</td>\n",
       "      <td>-38.0</td>\n",
       "      <td>104</td>\n",
       "      <td>-0.365385</td>\n",
       "    </tr>\n",
       "    <tr>\n",
       "      <td>3</td>\n",
       "      <td>(19, 7, False)</td>\n",
       "      <td>55.0</td>\n",
       "      <td>113</td>\n",
       "      <td>0.486726</td>\n",
       "    </tr>\n",
       "    <tr>\n",
       "      <td>4</td>\n",
       "      <td>(20, 8, False)</td>\n",
       "      <td>96.0</td>\n",
       "      <td>129</td>\n",
       "      <td>0.744186</td>\n",
       "    </tr>\n",
       "    <tr>\n",
       "      <td>5</td>\n",
       "      <td>(20, 2, False)</td>\n",
       "      <td>94.0</td>\n",
       "      <td>142</td>\n",
       "      <td>0.661972</td>\n",
       "    </tr>\n",
       "    <tr>\n",
       "      <td>6</td>\n",
       "      <td>(15, 5, False)</td>\n",
       "      <td>-42.0</td>\n",
       "      <td>93</td>\n",
       "      <td>-0.451613</td>\n",
       "    </tr>\n",
       "    <tr>\n",
       "      <td>7</td>\n",
       "      <td>(20, 5, False)</td>\n",
       "      <td>62.0</td>\n",
       "      <td>115</td>\n",
       "      <td>0.539130</td>\n",
       "    </tr>\n",
       "    <tr>\n",
       "      <td>8</td>\n",
       "      <td>(12, 3, False)</td>\n",
       "      <td>-55.0</td>\n",
       "      <td>91</td>\n",
       "      <td>-0.604396</td>\n",
       "    </tr>\n",
       "    <tr>\n",
       "      <td>9</td>\n",
       "      <td>(15, 3, False)</td>\n",
       "      <td>-36.0</td>\n",
       "      <td>96</td>\n",
       "      <td>-0.375000</td>\n",
       "    </tr>\n",
       "  </tbody>\n",
       "</table>\n",
       "</div>"
      ],
      "text/plain": [
       "            state  total_return    N     value\n",
       "0   (7, 7, False)          -4.0   16 -0.250000\n",
       "1  (11, 7, False)          19.0   43  0.441860\n",
       "2  (16, 7, False)         -38.0  104 -0.365385\n",
       "3  (19, 7, False)          55.0  113  0.486726\n",
       "4  (20, 8, False)          96.0  129  0.744186\n",
       "5  (20, 2, False)          94.0  142  0.661972\n",
       "6  (15, 5, False)         -42.0   93 -0.451613\n",
       "7  (20, 5, False)          62.0  115  0.539130\n",
       "8  (12, 3, False)         -55.0   91 -0.604396\n",
       "9  (15, 3, False)         -36.0   96 -0.375000"
      ]
     },
     "execution_count": 17,
     "metadata": {},
     "output_type": "execute_result"
    }
   ],
   "source": [
    "df.head(10)"
   ]
  },
  {
   "cell_type": "markdown",
   "metadata": {
    "scrolled": false
   },
   "source": [
    "As we can observe we now have the value of the state which is just the average of a return\n",
    "of the state across several episodes. Thus, we have successfully predicted the value function\n",
    "of the given policy using the every-visit MC method.\n",
    "\n",
    "Okay, let's check the value of some states and understand how accurately our value\n",
    "function is estimated according to the given policy. Recall that when we started off, to\n",
    "generate episodes, we used the optimal policy which selects action 0 (stand) when the sum\n",
    "value is greater than 19 and action 1 (hit) when the sum value is less than 19.\n",
    "\n",
    "Let's evaluate the value of the state (21,9,False), as we can observe, our sum of cards\n",
    "value is already 21 and so this is a good state and should have a high value. Let's see what's\n",
    "our estimated value of the state:"
   ]
  },
  {
   "cell_type": "code",
   "execution_count": 18,
   "metadata": {},
   "outputs": [
    {
     "data": {
      "text/plain": [
       "array([0.90163934])"
      ]
     },
     "execution_count": 18,
     "metadata": {},
     "output_type": "execute_result"
    }
   ],
   "source": [
    "df[df['state']==(21,9,False)]['value'].values"
   ]
  },
  {
   "cell_type": "markdown",
   "metadata": {},
   "source": [
    "As we can observe above our value of the state is high.\n",
    "Now, let's check the value of the state (5,8,False)as we can notice, our sum of cards\n",
    "value is just 5 and even the one dealer's single card has a high value, 8, then, in this case,\n",
    "the value of the state should be less. Let's see what's our estimated value of the state:"
   ]
  },
  {
   "cell_type": "code",
   "execution_count": 19,
   "metadata": {},
   "outputs": [
    {
     "data": {
      "text/plain": [
       "array([0.08333333])"
      ]
     },
     "execution_count": 19,
     "metadata": {},
     "output_type": "execute_result"
    }
   ],
   "source": [
    "df[df['state']==(5,8,False)]['value'].values"
   ]
  },
  {
   "cell_type": "markdown",
   "metadata": {},
   "source": [
    "As we can notice, the value of the state is less.\n",
    "Thus, we learned how to predict the value function of the given policy using the every-visit\n",
    "MC prediction method, in the next section, we will look at how to compute the value of the\n",
    "state using the first-visit mC method. "
   ]
  }
 ],
 "metadata": {
  "kernelspec": {
   "display_name": "Python 3",
   "language": "python",
   "name": "python3"
  },
  "language_info": {
   "codemirror_mode": {
    "name": "ipython",
    "version": 3
   },
   "file_extension": ".py",
   "mimetype": "text/x-python",
   "name": "python",
   "nbconvert_exporter": "python",
   "pygments_lexer": "ipython3",
   "version": "3.6.9"
  }
 },
 "nbformat": 4,
 "nbformat_minor": 2
}
