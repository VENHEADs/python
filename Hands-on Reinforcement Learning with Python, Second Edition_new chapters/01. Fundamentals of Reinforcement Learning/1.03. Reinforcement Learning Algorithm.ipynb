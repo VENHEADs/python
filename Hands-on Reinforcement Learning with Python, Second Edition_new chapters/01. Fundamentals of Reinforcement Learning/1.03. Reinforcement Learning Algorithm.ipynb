{
 "cells": [
  {
   "cell_type": "markdown",
   "metadata": {},
   "source": [
    "## Reinforcement Learning Algorithm\n",
    "\n",
    "The steps involved in a typical reinforcement learning algorithm are given as follows:\n",
    "\n",
    "1. First, the agent interacts with the environment by performing an action\n",
    "2. The agent performs an action and moves from one state to another\n",
    "3. Then the agent will receive a reward based on the action it performed\n",
    "4. Based on the reward, the agent will understand that whether the action is good or bad\n",
    "5. If the action was good, that is, if the agent received a positive reward, then the agent will prefer performing that action else the agent will try performing other actions which can result in a positive reward. So reinforcement learning is basically a trial and error learning process.\n",
    "\n",
    "\n",
    "Now, let's revisit our chess game example. The agent(software program) is basically the chess player. So, the agent interacts with the environment(chessboard) by performing some action(moves). If the agent gets a positive reward for an action, then it will prefer performing that action else it will find other action which gives a positive reward. \n",
    "\n",
    "Ultimately, the goal of the agent is to maximize the reward it gets. If the agent receives a good reward then it means that it performs a good action. If the agent performs a good action then it implies that it can win the game. Thus, the agent learns to win the game by maximizing the reward. "
   ]
  }
 ],
 "metadata": {
  "kernelspec": {
   "display_name": "Python 3",
   "language": "python",
   "name": "python3"
  },
  "language_info": {
   "codemirror_mode": {
    "name": "ipython",
    "version": 3
   },
   "file_extension": ".py",
   "mimetype": "text/x-python",
   "name": "python",
   "nbconvert_exporter": "python",
   "pygments_lexer": "ipython3",
   "version": "3.6.9"
  }
 },
 "nbformat": 4,
 "nbformat_minor": 2
}
