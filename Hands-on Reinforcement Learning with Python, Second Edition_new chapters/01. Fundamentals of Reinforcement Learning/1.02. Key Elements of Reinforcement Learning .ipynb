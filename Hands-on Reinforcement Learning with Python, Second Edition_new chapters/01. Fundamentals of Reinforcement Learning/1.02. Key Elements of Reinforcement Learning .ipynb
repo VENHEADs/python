{
 "cells": [
  {
   "cell_type": "markdown",
   "metadata": {},
   "source": [
    "# Key Elements of Reinforcement Learning \n",
    "In this section, we will learn about some of the key elements of reinforcement learning:\n",
    "\n",
    "## Agent \n",
    "An agent is a software program that learns to make intelligent decisions. We can say that an agent is a learner in the reinforcement learning setting. For instance, a chess player can be considered as an agent as the player learns to make the best moves(decisions) in order to win the game. Similarly, a Super Mario in a video game can be considered as an agent since Mario explores the game and learns to make the best move in the game.\n",
    "\n",
    "## Environment \n",
    "The environment is the world of the agent. The agent stays within the environment. For instance, coming back to our chess game, a chessboard is called the environment. Since the chessplayer(agent) learns to play the game of chess within the chessboard(environment). Similarly in the super Mario game, the world of super Mario game is called the environment. \n",
    "\n",
    "## State and action\n",
    "A state is a position or a moment in the environment where the agent can be in. We learned that the agent stays within the environment and there can be many positions in the environment where the agent can stay in and those positions are called state. For instance, in our chess game example, each position in the chessboard is called the state. The state is usually denoted by . \n",
    "\n",
    "The agent interacts with the environment and moves from one state to another by performing an action. In the chess game environment, the action is the move performed by the player(agent). The action is usually denoted by . \n",
    "\n",
    "## Reward\n",
    "We learned that the agent interacts with an environment by performing an action and moves from one state to another. Based on the action, the agent receives a reward.  A reward is nothing but a numerical value, say, +1 for good action and -1 for a bad action. How do we decide if an action is good or bad?\n",
    "\n",
    "In our chess game example, if the agent makes the move such that if it defeats the opponent's chess piece then it can be considered as a good action and the agent receives the positive reward. Similarly, if the agent makes a move such that if the opponent defeats the agent's chess piece then it will be considered as bad action and the agent receives a negative reward. The reward is denoted by . \n",
    "\n",
    "Now that we have understood several key elements of reinforcement learning. In the next section, we will take a closer look at the reinforcement learning algorithm and learn how exactly it works. "
   ]
  }
 ],
 "metadata": {
  "kernelspec": {
   "display_name": "Python 3",
   "language": "python",
   "name": "python3"
  },
  "language_info": {
   "codemirror_mode": {
    "name": "ipython",
    "version": 3
   },
   "file_extension": ".py",
   "mimetype": "text/x-python",
   "name": "python",
   "nbconvert_exporter": "python",
   "pygments_lexer": "ipython3",
   "version": "3.6.9"
  }
 },
 "nbformat": 4,
 "nbformat_minor": 2
}
