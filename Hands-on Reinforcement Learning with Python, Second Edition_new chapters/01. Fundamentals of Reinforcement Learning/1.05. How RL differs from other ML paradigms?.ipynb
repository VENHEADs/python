{
 "cells": [
  {
   "cell_type": "markdown",
   "metadata": {},
   "source": [
    "# How RL differs from other ML paradigms?\n",
    "Machine Learning (ML) can be categorized into three types:\n",
    "\n",
    "* Supervised Learning\n",
    "* Unsupervised Learning\n",
    "* Reinforcement Learning\n",
    "\n",
    "In supervised learning, the machine learns from the training data. The training data consists of labeled pair of inputs and outputs. So, we train the model (agent) using the given training data in such a way that the model can generalize its learning to new unseen data. It is called supervised learning because training data acts as a supervisor since it has a labeled pair of input and outputs and it guides the model in learning the given task.\n",
    "\n",
    "Now, let's understand the difference between supervised and reinforcement learning with an example. Consider the dog analogy we discussed earlier in the chapter, in supervised learning, to teach the dog to catch a ball, we will teach it explicitly by specifying turn left, go right, move forward seven steps, catch the ball, and so on in the form of training data. But in RL we just throw a ball, and every time the dog catches the ball, we give it a cookie (reward). So the dog will learn to catch the ball while trying to maximize the cookie (reward) it can get. \n",
    "\n",
    "Let's consider one more example. Say, we want to train the model to play the chess game using supervised learning. In that case, we will have training data which includes all the moves that can be played by the player in each state along with the labels indicating whether it is a good move or not. Then, we will train the model to learn from this training data. Whereas in the case of reinforcement learning, our agent will not be given any sort of training data, instead we just give a reward to the agent for each action it performs. Then the agent will learn by interacting with the environment and based on the reward it gets. \n",
    "\n",
    "Similar to supervised learning, in unsupervised learning, we train the model (agent) based on the training data. But in the case of unsupervised learning, the training data does not contain any labels, that is, it consists of only inputs and not output. The goal of unsupervised learning is to determine the hidden pattern in the input. There is a common misconception that reinforcement learning is a kind of unsupervised learning but it is not. In unsupervised learning, the model learns the hidden structure whereas in reinforcement learning the model learns by maximizing the reward.\n",
    "\n",
    "For instance, consider we are building a movie recommendation system and say we want to recommend a new movie to the user, then in the case of unsupervised learning, we can analyse the similar movies related to the movies the user has viewed before and recommend the new movies to the user, whereas, in case of reinforcement learning, the agent constantly receives feedback from the user based on the reward, understand his movie preferences, and builds a knowledge base on top of it and suggests new movies to the user.\n",
    "\n",
    "Thus, we can say that in both supervised and unsupervised learning the model (agent) learns based on the given training dataset whereas in reinforcement learning agent learns by directly interacting with the environment. Thus reinforcement learning is essentially an interaction between the agent and its environment. "
   ]
  }
 ],
 "metadata": {
  "kernelspec": {
   "display_name": "Python 3",
   "language": "python",
   "name": "python3"
  },
  "language_info": {
   "codemirror_mode": {
    "name": "ipython",
    "version": 3
   },
   "file_extension": ".py",
   "mimetype": "text/x-python",
   "name": "python",
   "nbconvert_exporter": "python",
   "pygments_lexer": "ipython3",
   "version": "3.6.9"
  }
 },
 "nbformat": 4,
 "nbformat_minor": 2
}
