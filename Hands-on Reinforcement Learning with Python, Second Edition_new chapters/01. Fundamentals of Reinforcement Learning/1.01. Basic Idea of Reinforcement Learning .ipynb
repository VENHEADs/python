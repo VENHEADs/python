{
 "cells": [
  {
   "cell_type": "markdown",
   "metadata": {},
   "source": [
    "# Introduction\n",
    "\n",
    "Reinforcement learning (RL) is a branch of machine learning where learning occurs by interacting with an environment, unlike other machine learning paradigms like supervised and unsupervised learning. Reinforcement learning is one of the most active areas of research in artificial intelligence and it is believed that RL will take us a step closer towards achieving artificial general intelligence. In this chapter, we will build a strong foundation of reinforcement learning by understating several important and fundamental concepts involved in reinforcement learning. \n",
    "\n",
    "In this chapter, we will learn about the following topics:\n",
    "\n",
    "* Basic idea of reinforcement learning\n",
    "* Key elements of reinforcement learning\n",
    "* Reinforcement learning algorithm\n",
    "* How RL differs from other ML paradigms?\n",
    "* Markov Decision Processes\n",
    "* Fundamental concepts of reinforcement learning\n",
    "* Applications of Reinforcement Learning\n",
    "* Reinforcement learning glossary"
   ]
  },
  {
   "cell_type": "markdown",
   "metadata": {},
   "source": [
    "# Basic Idea of Reinforcement Learning \n",
    "\n",
    "Let's begin with an analogy. Let's suppose we are teaching the dog to catch a ball. Instead of teaching the dog explicitly to catch a ball, we will just throw a ball and every time the dog catches the ball, we will give the dog a cookie. If the dog fails to catch the ball then we will not give a cookie. So, the dog will figure out what action caused it to receive a cookie and repeat that action. Thus, the dog will understand that catching the ball caused it to receive a cookie and repeat catching the ball. Thus, in this way the dog will learn to catch a ball while aiming for maximizing the cookies it can receive. \n",
    "\n",
    "Similarly, in a reinforcement learning setting, we will not teach the agent what to do or how to do, instead, we will give a reward to the agent for every action it does. We will give a positive reward to the agent when it performs a good action and we will give a negative reward to the agent when it performs a bad action. The agent begins by performing a random action and if the action is good then we will give the agent a positive reward so that the agent will understand it has performed a good action and it will repeat that action and if the action performed by the agent is bad then we will give the agent a negative reward so that the agent will understand it has performed a bad action and it will not repeat that action. \n",
    "\n",
    "Thus, reinforcement learning can be viewed as a trial and error learning process where the agent tries out different actions and learns the good action which gives a positive reward. \n",
    "\n",
    "In the dog analogy, we learned, the dog represents the agent, giving a cookie to the dog upon catching the ball is a positive reward and not giving a cookie is a negative reward. So, the dog (agent) explores different actions which are catching a ball and not catching a ball and understands that catching the ball is a good action as it brings the dog a positive reward (getting a cookie).\n",
    "\n",
    "Let's understand the idea of reinforcement learning with one more simple example. Let's suppose we want to teach a robot (agent) to walk without getting hit by a mountain as shown below:\n",
    "\n",
    "![title](Images/1.png)\n",
    "\n",
    "We will not teach the robot explicitly to not go in the direction of the mountain, instead, if the robot hits the mountain and get stuck, we give the robot a negative reward, say -1. So, the robot will understand that hitting the mountain is the wrong action and it will not repeat that action again:\n",
    "\n",
    "\n",
    "![title](Images/2.png)\n",
    "Similarly, when the robot walk in the right direction without getting hit by a mountain, we will give the robot a positive reward, say +1.  So, the robot will understand that not hitting the mountain is the good action and it will repeat that action:\n",
    "\n",
    "![title](Images/3.png)\n",
    "\n",
    "Thus, in the reinforcement learning setting, the agent explores different actions and learns the best action based on the reward it gets.  \n",
    "\n",
    "Now that we have a basic idea of how reinforcement learning works, in the upcoming sections, we will get into more details and also learn the important concepts involved in reinforcement learning. \n",
    "\n"
   ]
  }
 ],
 "metadata": {
  "kernelspec": {
   "display_name": "Python 3",
   "language": "python",
   "name": "python3"
  },
  "language_info": {
   "codemirror_mode": {
    "name": "ipython",
    "version": 3
   },
   "file_extension": ".py",
   "mimetype": "text/x-python",
   "name": "python",
   "nbconvert_exporter": "python",
   "pygments_lexer": "ipython3",
   "version": "3.6.9"
  }
 },
 "nbformat": 4,
 "nbformat_minor": 2
}
